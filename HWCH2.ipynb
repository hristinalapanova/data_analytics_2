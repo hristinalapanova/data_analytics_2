{
  "nbformat": 4,
  "nbformat_minor": 0,
  "metadata": {
    "colab": {
      "name": "HWCH2.ipynb",
      "provenance": [],
      "collapsed_sections": [],
      "authorship_tag": "ABX9TyMrHO8PWDRu3RA1Koi3RFxW",
      "include_colab_link": true
    },
    "kernelspec": {
      "display_name": "Python 3",
      "name": "python3"
    },
    "language_info": {
      "name": "python"
    }
  },
  "cells": [
    {
      "cell_type": "markdown",
      "metadata": {
        "id": "view-in-github",
        "colab_type": "text"
      },
      "source": [
        "<a href=\"https://colab.research.google.com/github/hristinalapanova/data_analytics_2/blob/main/HWCH2.ipynb\" target=\"_parent\"><img src=\"https://colab.research.google.com/assets/colab-badge.svg\" alt=\"Open In Colab\"/></a>"
      ]
    },
    {
      "cell_type": "code",
      "metadata": {
        "id": "ISzykIF3BM7B"
      },
      "source": [
        ""
      ],
      "execution_count": null,
      "outputs": []
    },
    {
      "cell_type": "markdown",
      "metadata": {
        "id": "s1JwUGbcBOoI"
      },
      "source": [
        ""
      ]
    },
    {
      "cell_type": "markdown",
      "metadata": {
        "id": "zTjXD-P8BPun"
      },
      "source": [
        ""
      ]
    },
    {
      "cell_type": "markdown",
      "metadata": {
        "id": "xlOhlSjVBSPR"
      },
      "source": [
        "#1.What is Python and why is it useful?\n",
        "Python is a general purpose, interpreted, interactive object-oriented and high-level programming language.\n",
        "#2. Are the following variable names allowed in Python?\n",
        "a and d are not. No numbers are allowed in the start of a var nambe also no spaces r allowed in a var name.\n"
      ]
    },
    {
      "cell_type": "code",
      "metadata": {
        "colab": {
          "base_uri": "https://localhost:8080/"
        },
        "id": "33QMAoGBBtq_",
        "outputId": "ad4cab96-7625-4431-81a7-fa3bcfda57f7"
      },
      "source": [
        "var_one=\"hello there!\"\n",
        "print(var_one)"
      ],
      "execution_count": null,
      "outputs": [
        {
          "output_type": "stream",
          "text": [
            "hello there!\n"
          ],
          "name": "stdout"
        }
      ]
    },
    {
      "cell_type": "markdown",
      "metadata": {
        "id": "310eEc0CBODN"
      },
      "source": [
        ""
      ]
    },
    {
      "cell_type": "code",
      "metadata": {
        "colab": {
          "base_uri": "https://localhost:8080/"
        },
        "id": "FSumxyGuB5sA",
        "outputId": "380b5ac3-3b7d-433f-c5f8-66d351f09868"
      },
      "source": [
        "first_name=\"tom\"\n",
        "last_name=\"johnes\"\n",
        "email_extension=\"@gmail.com\"\n",
        "print(first_name+last_name+email_extension)"
      ],
      "execution_count": null,
      "outputs": [
        {
          "output_type": "stream",
          "text": [
            "tomjohnes@gmail.com\n"
          ],
          "name": "stdout"
        }
      ]
    },
    {
      "cell_type": "code",
      "metadata": {
        "colab": {
          "base_uri": "https://localhost:8080/"
        },
        "id": "naDqv6LxCMYL",
        "outputId": "831ed8ca-b153-4f42-b00a-167d4e9e633d"
      },
      "source": [
        "friend_name=\"Ash Mesh\"\n",
        "print(friend_name.upper())"
      ],
      "execution_count": null,
      "outputs": [
        {
          "output_type": "stream",
          "text": [
            "ASH MESH\n"
          ],
          "name": "stdout"
        }
      ]
    },
    {
      "cell_type": "code",
      "metadata": {
        "colab": {
          "base_uri": "https://localhost:8080/"
        },
        "id": "pZRcL50aCgfc",
        "outputId": "40dcd54f-96b4-433a-c925-59e51f96aff2"
      },
      "source": [
        "print(friend_name.lower())"
      ],
      "execution_count": null,
      "outputs": [
        {
          "output_type": "stream",
          "text": [
            "ash mesh\n"
          ],
          "name": "stdout"
        }
      ]
    },
    {
      "cell_type": "code",
      "metadata": {
        "colab": {
          "base_uri": "https://localhost:8080/"
        },
        "id": "dvqvUs-iCloh",
        "outputId": "590ed1ae-dba9-4d71-f8f8-833c212e43f4"
      },
      "source": [
        "date=15\n",
        "print('Do you want to hang out on the '+str(date)+\"th of the month?\")"
      ],
      "execution_count": null,
      "outputs": [
        {
          "output_type": "stream",
          "text": [
            "Do you want to hang out on the 15th of the month?\n"
          ],
          "name": "stdout"
        }
      ]
    },
    {
      "cell_type": "code",
      "metadata": {
        "id": "y_tXfSsxCy41"
      },
      "source": [
        ""
      ],
      "execution_count": null,
      "outputs": []
    },
    {
      "cell_type": "markdown",
      "metadata": {
        "id": "vPm-RIKxDnd1"
      },
      "source": [
        "#Lists\n"
      ]
    },
    {
      "cell_type": "code",
      "metadata": {
        "colab": {
          "base_uri": "https://localhost:8080/"
        },
        "id": "qTWw__o0DpTP",
        "outputId": "5fe86549-73b4-4f81-d9dd-373504eb8a39"
      },
      "source": [
        "fav_shows=['Friends', 'Breaking Bad', 'Mad Men', 'The Office', 'Modern Family']\n",
        "print(fav_shows)\n",
        "new_list=sorted(fav_shows)\n",
        "print(new_list)\n",
        "print(fav_shows)\n",
        "print(sorted(fav_shows,reverse=True))\n",
        "print(\"I have \"+str(len(fav_shows))+\" favorite\")"
      ],
      "execution_count": null,
      "outputs": [
        {
          "output_type": "stream",
          "text": [
            "['Friends', 'Breaking Bad', 'Mad Men', 'The Office', 'Modern Family']\n",
            "['Breaking Bad', 'Friends', 'Mad Men', 'Modern Family', 'The Office']\n",
            "['Friends', 'Breaking Bad', 'Mad Men', 'The Office', 'Modern Family']\n",
            "['The Office', 'Modern Family', 'Mad Men', 'Friends', 'Breaking Bad']\n",
            "I have 5 favorite\n"
          ],
          "name": "stdout"
        }
      ]
    },
    {
      "cell_type": "code",
      "metadata": {
        "id": "1qo4l-GAJnK3"
      },
      "source": [
        ""
      ],
      "execution_count": null,
      "outputs": []
    },
    {
      "cell_type": "code",
      "metadata": {
        "id": "Ix6OxBU7GOnZ"
      },
      "source": [
        ""
      ],
      "execution_count": null,
      "outputs": []
    },
    {
      "cell_type": "markdown",
      "metadata": {
        "id": "B7A6fBpSHvwN"
      },
      "source": [
        "sorted() vs sort() => sort() modifies the existing list sorted() creates a new list with the sorted values"
      ]
    },
    {
      "cell_type": "code",
      "metadata": {
        "id": "T6pceBd8IDLP"
      },
      "source": [
        ""
      ],
      "execution_count": null,
      "outputs": []
    },
    {
      "cell_type": "markdown",
      "metadata": {
        "id": "uxPF_zhGBLUW"
      },
      "source": [
        "#Looping\n"
      ]
    },
    {
      "cell_type": "code",
      "metadata": {
        "colab": {
          "base_uri": "https://localhost:8080/"
        },
        "id": "hAL31-WbBPwa",
        "outputId": "ea28c0df-1606-4a17-b999-6b26d4152379"
      },
      "source": [
        "colors=['red','yellow','green','blue','orange']\n",
        "for color in colors:\n",
        "  print(color)"
      ],
      "execution_count": null,
      "outputs": [
        {
          "output_type": "stream",
          "text": [
            "red\n",
            "yellow\n",
            "green\n",
            "blue\n",
            "orange\n"
          ],
          "name": "stdout"
        }
      ]
    },
    {
      "cell_type": "code",
      "metadata": {
        "colab": {
          "base_uri": "https://localhost:8080/"
        },
        "id": "P11EV-SHBgyP",
        "outputId": "0e9931a7-e6e4-4a96-96d4-c94434c991bc"
      },
      "source": [
        "colors=['red','yellow','green','blue','orange']\n",
        "for color in colors:\n",
        "  print('This is one of my favorite colors: '+ color)"
      ],
      "execution_count": null,
      "outputs": [
        {
          "output_type": "stream",
          "text": [
            "This is one of my favorite colors: red\n",
            "This is one of my favorite colors: yellow\n",
            "This is one of my favorite colors: green\n",
            "This is one of my favorite colors: blue\n",
            "This is one of my favorite colors: orange\n"
          ],
          "name": "stdout"
        }
      ]
    },
    {
      "cell_type": "code",
      "metadata": {
        "colab": {
          "base_uri": "https://localhost:8080/"
        },
        "id": "Y4y-gh1bCcO4",
        "outputId": "58797720-92e6-4237-fb22-0beb954e7c07"
      },
      "source": [
        "for num in range(1,21):\n",
        "  if num%2==0:\n",
        "    print(num)"
      ],
      "execution_count": null,
      "outputs": [
        {
          "output_type": "stream",
          "text": [
            "2\n",
            "4\n",
            "6\n",
            "8\n",
            "10\n",
            "12\n",
            "14\n",
            "16\n",
            "18\n",
            "20\n"
          ],
          "name": "stdout"
        }
      ]
    },
    {
      "cell_type": "code",
      "metadata": {
        "colab": {
          "base_uri": "https://localhost:8080/"
        },
        "id": "5k64m5wDCnlw",
        "outputId": "cbd8e57c-8d54-492f-acf5-7ce4d2bbaab2"
      },
      "source": [
        "colors=['red','yellow','green','blue','orange']\n",
        "for color in colors:  \n",
        "  colors.sort()\n",
        "  print(colors)\n",
        "  break"
      ],
      "execution_count": null,
      "outputs": [
        {
          "output_type": "stream",
          "text": [
            "['blue', 'green', 'orange', 'red', 'yellow']\n"
          ],
          "name": "stdout"
        }
      ]
    },
    {
      "cell_type": "code",
      "metadata": {
        "colab": {
          "base_uri": "https://localhost:8080/"
        },
        "id": "_j331fE8Edop",
        "outputId": "87eaeab0-6ed2-43e9-aec7-95337d15fb27"
      },
      "source": [
        "colors=['red','yellow','green','blue','orange']\n",
        "for color in colors:\n",
        "  print(colors[:3])\n",
        "  break"
      ],
      "execution_count": null,
      "outputs": [
        {
          "output_type": "stream",
          "text": [
            "['red', 'yellow', 'green']\n"
          ],
          "name": "stdout"
        }
      ]
    },
    {
      "cell_type": "code",
      "metadata": {
        "colab": {
          "base_uri": "https://localhost:8080/"
        },
        "id": "0Am_T8u1Eo6b",
        "outputId": "78337ed9-94ad-48b6-9f51-492e21b593c7"
      },
      "source": [
        "colors=['red','yellow','green','blue','orange']\n",
        "for color in colors:\n",
        "  print(colors[-2:])\n",
        "  break"
      ],
      "execution_count": null,
      "outputs": [
        {
          "output_type": "stream",
          "text": [
            "['blue', 'orange']\n"
          ],
          "name": "stdout"
        }
      ]
    },
    {
      "cell_type": "markdown",
      "metadata": {
        "id": "ZjpWsgfdE7yA"
      },
      "source": [
        ""
      ]
    },
    {
      "cell_type": "markdown",
      "metadata": {
        "id": "UQmRJaHlE78_"
      },
      "source": [
        "#If-ELIF-else statements"
      ]
    },
    {
      "cell_type": "code",
      "metadata": {
        "colab": {
          "base_uri": "https://localhost:8080/"
        },
        "id": "D81_HMfuFEU6",
        "outputId": "8ed30fb8-86ba-4da1-c498-7b86862380ac"
      },
      "source": [
        "usernames=['admin','user1','user2','user3','user4','user5']\n",
        "for username in usernames:\n",
        "  if username=='admin':\n",
        "    print('Hello MR/Mrs Administrator!')\n",
        "  else:\n",
        "    print('Hello user!')"
      ],
      "execution_count": null,
      "outputs": [
        {
          "output_type": "stream",
          "text": [
            "Hello MR/Mrs Administrator!\n",
            "Hello user!\n",
            "Hello user!\n",
            "Hello user!\n",
            "Hello user!\n",
            "Hello user!\n"
          ],
          "name": "stdout"
        }
      ]
    },
    {
      "cell_type": "code",
      "metadata": {
        "colab": {
          "base_uri": "https://localhost:8080/"
        },
        "id": "_Sl7pG3rGGBZ",
        "outputId": "2a4146fd-93cc-475d-f386-6628f9f8e4e3"
      },
      "source": [
        "nums=[1,2,3,4,5,6,7,8,9,10]\n",
        "for num in nums:\n",
        "  print(num)"
      ],
      "execution_count": null,
      "outputs": [
        {
          "output_type": "stream",
          "text": [
            "1\n",
            "2\n",
            "3\n",
            "4\n",
            "5\n",
            "6\n",
            "7\n",
            "8\n",
            "9\n",
            "10\n"
          ],
          "name": "stdout"
        }
      ]
    },
    {
      "cell_type": "code",
      "metadata": {
        "colab": {
          "base_uri": "https://localhost:8080/"
        },
        "id": "xvo21Q7rGSMF",
        "outputId": "78688655-b54d-4340-a10e-919672e93eb2"
      },
      "source": [
        "nums=[1,2,3,4,5,6,7,8,9,10]\n",
        "for num in nums:\n",
        "  if num==1:\n",
        "    print(str(num)+\"st\")\n",
        "  elif num==2:\n",
        "    print(str(num)+'nd')\n",
        "  elif num==3:\n",
        "    print(str(num)+'rd')\n",
        "  else:\n",
        "    print(str(num)+'th')"
      ],
      "execution_count": null,
      "outputs": [
        {
          "output_type": "stream",
          "text": [
            "1st\n",
            "2nd\n",
            "3rd\n",
            "4th\n",
            "5th\n",
            "6th\n",
            "7th\n",
            "8th\n",
            "9th\n",
            "10th\n"
          ],
          "name": "stdout"
        }
      ]
    },
    {
      "cell_type": "markdown",
      "metadata": {
        "id": "MyASfOXlHNQa"
      },
      "source": [
        "#Odd or even\n"
      ]
    },
    {
      "cell_type": "code",
      "metadata": {
        "colab": {
          "base_uri": "https://localhost:8080/"
        },
        "id": "5ZY37diwHV_c",
        "outputId": "24efb6c6-43eb-4533-d0b8-7325ecd97b0e"
      },
      "source": [
        "num=input(\"Pick a number: \")\n",
        "if int(num)%2==0:\n",
        "  print(\"even\")\n",
        "else:\n",
        "  print('odd')"
      ],
      "execution_count": null,
      "outputs": [
        {
          "output_type": "stream",
          "text": [
            "Pick a number: 3\n",
            "odd\n"
          ],
          "name": "stdout"
        }
      ]
    },
    {
      "cell_type": "code",
      "metadata": {
        "colab": {
          "base_uri": "https://localhost:8080/"
        },
        "id": "Nrm9_8CqI3WY",
        "outputId": "7a623370-7be5-44aa-fd01-ababc49f4243"
      },
      "source": [
        "num=input(\"Pick a number: \")\n",
        "if int(num)%4==0:\n",
        "  print('divisible by 4!')\n",
        "else:\n",
        "  print('not divisible by 4!')"
      ],
      "execution_count": null,
      "outputs": [
        {
          "output_type": "stream",
          "text": [
            "Pick a number: 5\n",
            "not divisible by 4!\n"
          ],
          "name": "stdout"
        }
      ]
    },
    {
      "cell_type": "code",
      "metadata": {
        "colab": {
          "base_uri": "https://localhost:8080/"
        },
        "id": "hfkfcXrqJPc_",
        "outputId": "47ea139b-f76a-440a-90db-155670841c74"
      },
      "source": [
        "num=input(\"Pick a number: \")\n",
        "check=input('Divide by: ')\n",
        "if int(num)%int(check)==0:\n",
        "  print('Divides evenly!')\n",
        "else:\n",
        "  print('Does not divide evenly!')"
      ],
      "execution_count": null,
      "outputs": [
        {
          "output_type": "stream",
          "text": [
            "Pick a number: 20\n",
            "Divide by: 5\n",
            "Divides evenly!\n"
          ],
          "name": "stdout"
        }
      ]
    },
    {
      "cell_type": "markdown",
      "metadata": {
        "id": "jYtMvOpP3OKf"
      },
      "source": [
        "#Rock Paper Scossors"
      ]
    },
    {
      "cell_type": "code",
      "metadata": {
        "colab": {
          "base_uri": "https://localhost:8080/"
        },
        "id": "zfYtGl2-3Qwc",
        "outputId": "342a1304-cdb3-4e68-883e-0242dec76074"
      },
      "source": [
        "#while player1 or player2 !='quit':\n",
        "active= True\n",
        "while active:\n",
        "  player1=input('Pick rock, paper or scissors!')\n",
        "  player2=input('Pick rock, paper or scissors!')\n",
        "  if player1=='rock' and player2==\"scissors\":\n",
        "    print('Player1 wins!')\n",
        "  elif player1==\"paper\" and player2==\"rock\":\n",
        "    print('player1 wins!')\n",
        "  elif player1==\"scissors\" and player2==\"paper\":\n",
        "    print('Player1 wins!')\n",
        "  else:\n",
        "    print('Player2 wins!!!')\n",
        "  if player1=='quit' and player2 =='quit':\n",
        "    active=False\n",
        "\n",
        "  "
      ],
      "execution_count": 49,
      "outputs": [
        {
          "output_type": "stream",
          "text": [
            "Pick rock, paper or scissors!paper\n",
            "Pick rock, paper or scissors!scissors\n",
            "Player2 wins!!!\n",
            "Pick rock, paper or scissors!quit\n",
            "Pick rock, paper or scissors!quit\n",
            "Player2 wins!!!\n"
          ],
          "name": "stdout"
        }
      ]
    },
    {
      "cell_type": "markdown",
      "metadata": {
        "id": "UUfCRVSKL7aB"
      },
      "source": [
        "\n",
        "#Dictionaries"
      ]
    },
    {
      "cell_type": "code",
      "metadata": {
        "id": "DYMFbw525wpo",
        "colab": {
          "base_uri": "https://localhost:8080/"
        },
        "outputId": "eec5f68c-a273-4c18-a743-d73947932865"
      },
      "source": [
        "person={'first_name':'Milly',\n",
        "        'last_name':'May'}\n",
        "print(person)\n",
        "print(\"Hello \"+person['first_name']+' '+person['last_name'])"
      ],
      "execution_count": 20,
      "outputs": [
        {
          "output_type": "stream",
          "text": [
            "{'first_name': 'Milly', 'last_name': 'May'}\n",
            "Hello Milly May\n"
          ],
          "name": "stdout"
        }
      ]
    },
    {
      "cell_type": "code",
      "metadata": {
        "colab": {
          "base_uri": "https://localhost:8080/"
        },
        "id": "FwG8sF4cRtdk",
        "outputId": "472a05d8-b577-48f7-be62-ba0befef930e"
      },
      "source": [
        "person2={'first_name':'Bill',\n",
        "         'second_name':'Clinton'}\n",
        "for key,value in person2.items():\n",
        "  print(key)\n",
        "  print(value)"
      ],
      "execution_count": 25,
      "outputs": [
        {
          "output_type": "stream",
          "text": [
            "first_name\n",
            "Bill\n",
            "second_name\n",
            "Clinton\n"
          ],
          "name": "stdout"
        }
      ]
    },
    {
      "cell_type": "code",
      "metadata": {
        "colab": {
          "base_uri": "https://localhost:8080/"
        },
        "id": "lPd-i-k0S66f",
        "outputId": "c0751306-4311-4a09-c05a-da6fb1ab4602"
      },
      "source": [
        "travel_destinations={\n",
        "    'Beach':{'Caribbean':'Jamaica','USA':'Miami','Asia':'Bora Bora'},\n",
        "    'Mountain':{'USA':'Colorado','Europe':'Austria','South America':'Peru'},\n",
        "    'City':{'USA':'New York','Europe':'Paris','Asia':'Tokyo'}\n",
        "}\n",
        "for key,value in travel_destinations.items():\n",
        "  if key=='Beach':\n",
        "    print('If you want to go to a beach destination you should consider '+str(travel_destinations['Beach']))\n",
        "  elif key==\"Mountain\":\n",
        "    print('If you want to go to a mountain destination you should consider '+str(travel_destinations['Mountain']))\n",
        "  elif key=='City':\n",
        "    print('If you want to go to a beach destination you should consider '+str(travel_destinations['City']))\n",
        "  \n"
      ],
      "execution_count": 46,
      "outputs": [
        {
          "output_type": "stream",
          "text": [
            "If you want to go to a beach destination you should consider {'Caribbean': 'Jamaica', 'USA': 'Miami', 'Asia': 'Bora Bora'}\n",
            "If you want to go to a mountain destination you should consider {'USA': 'Colorado', 'Europe': 'Austria', 'South America': 'Peru'}\n",
            "If you want to go to a beach destination you should consider {'USA': 'New York', 'Europe': 'Paris', 'Asia': 'Tokyo'}\n"
          ],
          "name": "stdout"
        }
      ]
    },
    {
      "cell_type": "markdown",
      "metadata": {
        "id": "kigPbYa-t0eA"
      },
      "source": [
        ""
      ]
    }
  ]
}