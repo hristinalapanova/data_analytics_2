{
  "nbformat": 4,
  "nbformat_minor": 0,
  "metadata": {
    "colab": {
      "name": "HW2_2.ipynb",
      "provenance": [],
      "authorship_tag": "ABX9TyNkwWzTALRILW+h1r25A5qx",
      "include_colab_link": true
    },
    "kernelspec": {
      "name": "python3",
      "display_name": "Python 3"
    },
    "language_info": {
      "name": "python"
    }
  },
  "cells": [
    {
      "cell_type": "markdown",
      "metadata": {
        "id": "view-in-github",
        "colab_type": "text"
      },
      "source": [
        "<a href=\"https://colab.research.google.com/github/hristinalapanova/data_analytics_2/blob/main/HW2_2.ipynb\" target=\"_parent\"><img src=\"https://colab.research.google.com/assets/colab-badge.svg\" alt=\"Open In Colab\"/></a>"
      ]
    },
    {
      "cell_type": "code",
      "metadata": {
        "id": "ISzykIF3BM7B"
      },
      "source": [
        ""
      ],
      "execution_count": null,
      "outputs": []
    },
    {
      "cell_type": "markdown",
      "metadata": {
        "id": "s1JwUGbcBOoI"
      },
      "source": [
        ""
      ]
    },
    {
      "cell_type": "markdown",
      "metadata": {
        "id": "zTjXD-P8BPun"
      },
      "source": [
        ""
      ]
    },
    {
      "cell_type": "markdown",
      "metadata": {
        "id": "xlOhlSjVBSPR"
      },
      "source": [
        "#1.What is Python and why is it useful?\n",
        "Python is a general purpose, interpreted, interactive object-oriented and high-level programming language.\n",
        "#2. Are the following variable names allowed in Python?\n",
        "a and d are not. No numbers are allowed in the start of a var nambe also no spaces r allowed in a var name.\n"
      ]
    },
    {
      "cell_type": "code",
      "metadata": {
        "colab": {
          "base_uri": "https://localhost:8080/"
        },
        "id": "33QMAoGBBtq_",
        "outputId": "ad4cab96-7625-4431-81a7-fa3bcfda57f7"
      },
      "source": [
        "var_one=\"hello there!\"\n",
        "print(var_one)"
      ],
      "execution_count": 1,
      "outputs": [
        {
          "output_type": "stream",
          "text": [
            "hello there!\n"
          ],
          "name": "stdout"
        }
      ]
    },
    {
      "cell_type": "markdown",
      "metadata": {
        "id": "310eEc0CBODN"
      },
      "source": [
        ""
      ]
    },
    {
      "cell_type": "code",
      "metadata": {
        "colab": {
          "base_uri": "https://localhost:8080/"
        },
        "id": "FSumxyGuB5sA",
        "outputId": "380b5ac3-3b7d-433f-c5f8-66d351f09868"
      },
      "source": [
        "first_name=\"tom\"\n",
        "last_name=\"johnes\"\n",
        "email_extension=\"@gmail.com\"\n",
        "print(first_name+last_name+email_extension)"
      ],
      "execution_count": 5,
      "outputs": [
        {
          "output_type": "stream",
          "text": [
            "tomjohnes@gmail.com\n"
          ],
          "name": "stdout"
        }
      ]
    },
    {
      "cell_type": "code",
      "metadata": {
        "colab": {
          "base_uri": "https://localhost:8080/"
        },
        "id": "naDqv6LxCMYL",
        "outputId": "831ed8ca-b153-4f42-b00a-167d4e9e633d"
      },
      "source": [
        "friend_name=\"Ash Mesh\"\n",
        "print(friend_name.upper())"
      ],
      "execution_count": 6,
      "outputs": [
        {
          "output_type": "stream",
          "text": [
            "ASH MESH\n"
          ],
          "name": "stdout"
        }
      ]
    },
    {
      "cell_type": "code",
      "metadata": {
        "colab": {
          "base_uri": "https://localhost:8080/"
        },
        "id": "pZRcL50aCgfc",
        "outputId": "40dcd54f-96b4-433a-c925-59e51f96aff2"
      },
      "source": [
        "print(friend_name.lower())"
      ],
      "execution_count": 7,
      "outputs": [
        {
          "output_type": "stream",
          "text": [
            "ash mesh\n"
          ],
          "name": "stdout"
        }
      ]
    },
    {
      "cell_type": "code",
      "metadata": {
        "colab": {
          "base_uri": "https://localhost:8080/"
        },
        "id": "dvqvUs-iCloh",
        "outputId": "590ed1ae-dba9-4d71-f8f8-833c212e43f4"
      },
      "source": [
        "date=15\n",
        "print('Do you want to hang out on the '+str(date)+\"th of the month?\")"
      ],
      "execution_count": 9,
      "outputs": [
        {
          "output_type": "stream",
          "text": [
            "Do you want to hang out on the 15th of the month?\n"
          ],
          "name": "stdout"
        }
      ]
    },
    {
      "cell_type": "code",
      "metadata": {
        "id": "y_tXfSsxCy41"
      },
      "source": [
        ""
      ],
      "execution_count": null,
      "outputs": []
    },
    {
      "cell_type": "markdown",
      "metadata": {
        "id": "vPm-RIKxDnd1"
      },
      "source": [
        "#Lists\n"
      ]
    },
    {
      "cell_type": "code",
      "metadata": {
        "colab": {
          "base_uri": "https://localhost:8080/"
        },
        "id": "qTWw__o0DpTP",
        "outputId": "5fe86549-73b4-4f81-d9dd-373504eb8a39"
      },
      "source": [
        "fav_shows=['Friends', 'Breaking Bad', 'Mad Men', 'The Office', 'Modern Family']\n",
        "print(fav_shows)\n",
        "new_list=sorted(fav_shows)\n",
        "print(new_list)\n",
        "print(fav_shows)\n",
        "print(sorted(fav_shows,reverse=True))\n",
        "print(\"I have \"+str(len(fav_shows))+\" favorite\")"
      ],
      "execution_count": 29,
      "outputs": [
        {
          "output_type": "stream",
          "text": [
            "['Friends', 'Breaking Bad', 'Mad Men', 'The Office', 'Modern Family']\n",
            "['Breaking Bad', 'Friends', 'Mad Men', 'Modern Family', 'The Office']\n",
            "['Friends', 'Breaking Bad', 'Mad Men', 'The Office', 'Modern Family']\n",
            "['The Office', 'Modern Family', 'Mad Men', 'Friends', 'Breaking Bad']\n",
            "I have 5 favorite\n"
          ],
          "name": "stdout"
        }
      ]
    },
    {
      "cell_type": "code",
      "metadata": {
        "id": "1qo4l-GAJnK3"
      },
      "source": [
        ""
      ],
      "execution_count": null,
      "outputs": []
    },
    {
      "cell_type": "code",
      "metadata": {
        "id": "Ix6OxBU7GOnZ"
      },
      "source": [
        ""
      ],
      "execution_count": null,
      "outputs": []
    },
    {
      "cell_type": "markdown",
      "metadata": {
        "id": "B7A6fBpSHvwN"
      },
      "source": [
        "sorted() vs sort() => sort() modifies the existing list sorted() creates a new list with the sorted values"
      ]
    },
    {
      "cell_type": "code",
      "metadata": {
        "id": "T6pceBd8IDLP"
      },
      "source": [
        ""
      ],
      "execution_count": null,
      "outputs": []
    }
  ]
}