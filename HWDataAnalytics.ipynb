{
  "nbformat": 4,
  "nbformat_minor": 0,
  "metadata": {
    "colab": {
      "name": "HWDataAnalytics.ipynb",
      "provenance": [],
      "collapsed_sections": [],
      "authorship_tag": "ABX9TyPVDYL6adtjMNG68AyN+7le",
      "include_colab_link": true
    },
    "kernelspec": {
      "display_name": "Python 3",
      "name": "python3"
    },
    "language_info": {
      "name": "python"
    }
  },
  "cells": [
    {
      "cell_type": "markdown",
      "metadata": {
        "id": "view-in-github",
        "colab_type": "text"
      },
      "source": [
        "<a href=\"https://colab.research.google.com/github/hristinalapanova/data_analytics_2/blob/main/HWDataAnalytics.ipynb\" target=\"_parent\"><img src=\"https://colab.research.google.com/assets/colab-badge.svg\" alt=\"Open In Colab\"/></a>"
      ]
    },
    {
      "cell_type": "code",
      "metadata": {
        "id": "ISzykIF3BM7B"
      },
      "source": [
        ""
      ],
      "execution_count": null,
      "outputs": []
    },
    {
      "cell_type": "markdown",
      "metadata": {
        "id": "s1JwUGbcBOoI"
      },
      "source": [
        ""
      ]
    },
    {
      "cell_type": "markdown",
      "metadata": {
        "id": "zTjXD-P8BPun"
      },
      "source": [
        ""
      ]
    },
    {
      "cell_type": "markdown",
      "metadata": {
        "id": "xlOhlSjVBSPR"
      },
      "source": [
        "#1.What is Python and why is it useful?\n",
        "Python is a general purpose, interpreted, interactive object-oriented and high-level programming language.\n",
        "#2. Are the following variable names allowed in Python?\n",
        "a and d are not. No numbers are allowed in the start of a var nambe also no spaces r allowed in a var name.\n"
      ]
    },
    {
      "cell_type": "code",
      "metadata": {
        "colab": {
          "base_uri": "https://localhost:8080/"
        },
        "id": "33QMAoGBBtq_",
        "outputId": "ad4cab96-7625-4431-81a7-fa3bcfda57f7"
      },
      "source": [
        "var_one=\"hello there!\"\n",
        "print(var_one)"
      ],
      "execution_count": null,
      "outputs": [
        {
          "output_type": "stream",
          "text": [
            "hello there!\n"
          ],
          "name": "stdout"
        }
      ]
    },
    {
      "cell_type": "markdown",
      "metadata": {
        "id": "310eEc0CBODN"
      },
      "source": [
        ""
      ]
    },
    {
      "cell_type": "code",
      "metadata": {
        "colab": {
          "base_uri": "https://localhost:8080/"
        },
        "id": "FSumxyGuB5sA",
        "outputId": "380b5ac3-3b7d-433f-c5f8-66d351f09868"
      },
      "source": [
        "first_name=\"tom\"\n",
        "last_name=\"johnes\"\n",
        "email_extension=\"@gmail.com\"\n",
        "print(first_name+last_name+email_extension)"
      ],
      "execution_count": null,
      "outputs": [
        {
          "output_type": "stream",
          "text": [
            "tomjohnes@gmail.com\n"
          ],
          "name": "stdout"
        }
      ]
    },
    {
      "cell_type": "code",
      "metadata": {
        "colab": {
          "base_uri": "https://localhost:8080/"
        },
        "id": "naDqv6LxCMYL",
        "outputId": "831ed8ca-b153-4f42-b00a-167d4e9e633d"
      },
      "source": [
        "friend_name=\"Ash Mesh\"\n",
        "print(friend_name.upper())"
      ],
      "execution_count": null,
      "outputs": [
        {
          "output_type": "stream",
          "text": [
            "ASH MESH\n"
          ],
          "name": "stdout"
        }
      ]
    },
    {
      "cell_type": "code",
      "metadata": {
        "colab": {
          "base_uri": "https://localhost:8080/"
        },
        "id": "pZRcL50aCgfc",
        "outputId": "40dcd54f-96b4-433a-c925-59e51f96aff2"
      },
      "source": [
        "print(friend_name.lower())"
      ],
      "execution_count": null,
      "outputs": [
        {
          "output_type": "stream",
          "text": [
            "ash mesh\n"
          ],
          "name": "stdout"
        }
      ]
    },
    {
      "cell_type": "code",
      "metadata": {
        "colab": {
          "base_uri": "https://localhost:8080/"
        },
        "id": "dvqvUs-iCloh",
        "outputId": "590ed1ae-dba9-4d71-f8f8-833c212e43f4"
      },
      "source": [
        "date=15\n",
        "print('Do you want to hang out on the '+str(date)+\"th of the month?\")"
      ],
      "execution_count": null,
      "outputs": [
        {
          "output_type": "stream",
          "text": [
            "Do you want to hang out on the 15th of the month?\n"
          ],
          "name": "stdout"
        }
      ]
    },
    {
      "cell_type": "code",
      "metadata": {
        "id": "y_tXfSsxCy41"
      },
      "source": [
        ""
      ],
      "execution_count": null,
      "outputs": []
    },
    {
      "cell_type": "markdown",
      "metadata": {
        "id": "vPm-RIKxDnd1"
      },
      "source": [
        "#Lists\n"
      ]
    },
    {
      "cell_type": "code",
      "metadata": {
        "colab": {
          "base_uri": "https://localhost:8080/"
        },
        "id": "qTWw__o0DpTP",
        "outputId": "5fe86549-73b4-4f81-d9dd-373504eb8a39"
      },
      "source": [
        "fav_shows=['Friends', 'Breaking Bad', 'Mad Men', 'The Office', 'Modern Family']\n",
        "print(fav_shows)\n",
        "new_list=sorted(fav_shows)\n",
        "print(new_list)\n",
        "print(fav_shows)\n",
        "print(sorted(fav_shows,reverse=True))\n",
        "print(\"I have \"+str(len(fav_shows))+\" favorite\")"
      ],
      "execution_count": null,
      "outputs": [
        {
          "output_type": "stream",
          "text": [
            "['Friends', 'Breaking Bad', 'Mad Men', 'The Office', 'Modern Family']\n",
            "['Breaking Bad', 'Friends', 'Mad Men', 'Modern Family', 'The Office']\n",
            "['Friends', 'Breaking Bad', 'Mad Men', 'The Office', 'Modern Family']\n",
            "['The Office', 'Modern Family', 'Mad Men', 'Friends', 'Breaking Bad']\n",
            "I have 5 favorite\n"
          ],
          "name": "stdout"
        }
      ]
    },
    {
      "cell_type": "code",
      "metadata": {
        "id": "1qo4l-GAJnK3"
      },
      "source": [
        ""
      ],
      "execution_count": null,
      "outputs": []
    },
    {
      "cell_type": "code",
      "metadata": {
        "id": "Ix6OxBU7GOnZ"
      },
      "source": [
        ""
      ],
      "execution_count": null,
      "outputs": []
    },
    {
      "cell_type": "markdown",
      "metadata": {
        "id": "B7A6fBpSHvwN"
      },
      "source": [
        "sorted() vs sort() => sort() modifies the existing list sorted() creates a new list with the sorted values"
      ]
    },
    {
      "cell_type": "code",
      "metadata": {
        "id": "T6pceBd8IDLP"
      },
      "source": [
        ""
      ],
      "execution_count": null,
      "outputs": []
    },
    {
      "cell_type": "markdown",
      "metadata": {
        "id": "uxPF_zhGBLUW"
      },
      "source": [
        "#Looping\n"
      ]
    },
    {
      "cell_type": "code",
      "metadata": {
        "colab": {
          "base_uri": "https://localhost:8080/"
        },
        "id": "hAL31-WbBPwa",
        "outputId": "ea28c0df-1606-4a17-b999-6b26d4152379"
      },
      "source": [
        "colors=['red','yellow','green','blue','orange']\n",
        "for color in colors:\n",
        "  print(color)"
      ],
      "execution_count": null,
      "outputs": [
        {
          "output_type": "stream",
          "text": [
            "red\n",
            "yellow\n",
            "green\n",
            "blue\n",
            "orange\n"
          ],
          "name": "stdout"
        }
      ]
    },
    {
      "cell_type": "code",
      "metadata": {
        "colab": {
          "base_uri": "https://localhost:8080/"
        },
        "id": "P11EV-SHBgyP",
        "outputId": "0e9931a7-e6e4-4a96-96d4-c94434c991bc"
      },
      "source": [
        "colors=['red','yellow','green','blue','orange']\n",
        "for color in colors:\n",
        "  print('This is one of my favorite colors: '+ color)"
      ],
      "execution_count": null,
      "outputs": [
        {
          "output_type": "stream",
          "text": [
            "This is one of my favorite colors: red\n",
            "This is one of my favorite colors: yellow\n",
            "This is one of my favorite colors: green\n",
            "This is one of my favorite colors: blue\n",
            "This is one of my favorite colors: orange\n"
          ],
          "name": "stdout"
        }
      ]
    },
    {
      "cell_type": "code",
      "metadata": {
        "colab": {
          "base_uri": "https://localhost:8080/"
        },
        "id": "Y4y-gh1bCcO4",
        "outputId": "58797720-92e6-4237-fb22-0beb954e7c07"
      },
      "source": [
        "for num in range(1,21):\n",
        "  if num%2==0:\n",
        "    print(num)"
      ],
      "execution_count": null,
      "outputs": [
        {
          "output_type": "stream",
          "text": [
            "2\n",
            "4\n",
            "6\n",
            "8\n",
            "10\n",
            "12\n",
            "14\n",
            "16\n",
            "18\n",
            "20\n"
          ],
          "name": "stdout"
        }
      ]
    },
    {
      "cell_type": "code",
      "metadata": {
        "colab": {
          "base_uri": "https://localhost:8080/"
        },
        "id": "5k64m5wDCnlw",
        "outputId": "cbd8e57c-8d54-492f-acf5-7ce4d2bbaab2"
      },
      "source": [
        "colors=['red','yellow','green','blue','orange']\n",
        "for color in colors:  \n",
        "  colors.sort()\n",
        "  print(colors)\n",
        "  break"
      ],
      "execution_count": null,
      "outputs": [
        {
          "output_type": "stream",
          "text": [
            "['blue', 'green', 'orange', 'red', 'yellow']\n"
          ],
          "name": "stdout"
        }
      ]
    },
    {
      "cell_type": "code",
      "metadata": {
        "colab": {
          "base_uri": "https://localhost:8080/"
        },
        "id": "_j331fE8Edop",
        "outputId": "87eaeab0-6ed2-43e9-aec7-95337d15fb27"
      },
      "source": [
        "colors=['red','yellow','green','blue','orange']\n",
        "for color in colors:\n",
        "  print(colors[:3])\n",
        "  break"
      ],
      "execution_count": null,
      "outputs": [
        {
          "output_type": "stream",
          "text": [
            "['red', 'yellow', 'green']\n"
          ],
          "name": "stdout"
        }
      ]
    },
    {
      "cell_type": "code",
      "metadata": {
        "colab": {
          "base_uri": "https://localhost:8080/"
        },
        "id": "0Am_T8u1Eo6b",
        "outputId": "78337ed9-94ad-48b6-9f51-492e21b593c7"
      },
      "source": [
        "colors=['red','yellow','green','blue','orange']\n",
        "for color in colors:\n",
        "  print(colors[-2:])\n",
        "  break"
      ],
      "execution_count": null,
      "outputs": [
        {
          "output_type": "stream",
          "text": [
            "['blue', 'orange']\n"
          ],
          "name": "stdout"
        }
      ]
    },
    {
      "cell_type": "markdown",
      "metadata": {
        "id": "ZjpWsgfdE7yA"
      },
      "source": [
        ""
      ]
    },
    {
      "cell_type": "markdown",
      "metadata": {
        "id": "UQmRJaHlE78_"
      },
      "source": [
        "#If-ELIF-else statements"
      ]
    },
    {
      "cell_type": "code",
      "metadata": {
        "colab": {
          "base_uri": "https://localhost:8080/"
        },
        "id": "D81_HMfuFEU6",
        "outputId": "8ed30fb8-86ba-4da1-c498-7b86862380ac"
      },
      "source": [
        "usernames=['admin','user1','user2','user3','user4','user5']\n",
        "for username in usernames:\n",
        "  if username=='admin':\n",
        "    print('Hello MR/Mrs Administrator!')\n",
        "  else:\n",
        "    print('Hello user!')"
      ],
      "execution_count": null,
      "outputs": [
        {
          "output_type": "stream",
          "text": [
            "Hello MR/Mrs Administrator!\n",
            "Hello user!\n",
            "Hello user!\n",
            "Hello user!\n",
            "Hello user!\n",
            "Hello user!\n"
          ],
          "name": "stdout"
        }
      ]
    },
    {
      "cell_type": "code",
      "metadata": {
        "colab": {
          "base_uri": "https://localhost:8080/"
        },
        "id": "_Sl7pG3rGGBZ",
        "outputId": "2a4146fd-93cc-475d-f386-6628f9f8e4e3"
      },
      "source": [
        "nums=[1,2,3,4,5,6,7,8,9,10]\n",
        "for num in nums:\n",
        "  print(num)"
      ],
      "execution_count": null,
      "outputs": [
        {
          "output_type": "stream",
          "text": [
            "1\n",
            "2\n",
            "3\n",
            "4\n",
            "5\n",
            "6\n",
            "7\n",
            "8\n",
            "9\n",
            "10\n"
          ],
          "name": "stdout"
        }
      ]
    },
    {
      "cell_type": "code",
      "metadata": {
        "colab": {
          "base_uri": "https://localhost:8080/"
        },
        "id": "xvo21Q7rGSMF",
        "outputId": "78688655-b54d-4340-a10e-919672e93eb2"
      },
      "source": [
        "nums=[1,2,3,4,5,6,7,8,9,10]\n",
        "for num in nums:\n",
        "  if num==1:\n",
        "    print(str(num)+\"st\")\n",
        "  elif num==2:\n",
        "    print(str(num)+'nd')\n",
        "  elif num==3:\n",
        "    print(str(num)+'rd')\n",
        "  else:\n",
        "    print(str(num)+'th')"
      ],
      "execution_count": null,
      "outputs": [
        {
          "output_type": "stream",
          "text": [
            "1st\n",
            "2nd\n",
            "3rd\n",
            "4th\n",
            "5th\n",
            "6th\n",
            "7th\n",
            "8th\n",
            "9th\n",
            "10th\n"
          ],
          "name": "stdout"
        }
      ]
    },
    {
      "cell_type": "markdown",
      "metadata": {
        "id": "MyASfOXlHNQa"
      },
      "source": [
        "#Odd or even\n"
      ]
    },
    {
      "cell_type": "code",
      "metadata": {
        "colab": {
          "base_uri": "https://localhost:8080/"
        },
        "id": "5ZY37diwHV_c",
        "outputId": "24efb6c6-43eb-4533-d0b8-7325ecd97b0e"
      },
      "source": [
        "num=input(\"Pick a number: \")\n",
        "if int(num)%2==0:\n",
        "  print(\"even\")\n",
        "else:\n",
        "  print('odd')"
      ],
      "execution_count": null,
      "outputs": [
        {
          "output_type": "stream",
          "text": [
            "Pick a number: 3\n",
            "odd\n"
          ],
          "name": "stdout"
        }
      ]
    },
    {
      "cell_type": "code",
      "metadata": {
        "colab": {
          "base_uri": "https://localhost:8080/"
        },
        "id": "Nrm9_8CqI3WY",
        "outputId": "7a623370-7be5-44aa-fd01-ababc49f4243"
      },
      "source": [
        "num=input(\"Pick a number: \")\n",
        "if int(num)%4==0:\n",
        "  print('divisible by 4!')\n",
        "else:\n",
        "  print('not divisible by 4!')"
      ],
      "execution_count": null,
      "outputs": [
        {
          "output_type": "stream",
          "text": [
            "Pick a number: 5\n",
            "not divisible by 4!\n"
          ],
          "name": "stdout"
        }
      ]
    },
    {
      "cell_type": "code",
      "metadata": {
        "colab": {
          "base_uri": "https://localhost:8080/"
        },
        "id": "hfkfcXrqJPc_",
        "outputId": "47ea139b-f76a-440a-90db-155670841c74"
      },
      "source": [
        "num=input(\"Pick a number: \")\n",
        "check=input('Divide by: ')\n",
        "if int(num)%int(check)==0:\n",
        "  print('Divides evenly!')\n",
        "else:\n",
        "  print('Does not divide evenly!')"
      ],
      "execution_count": null,
      "outputs": [
        {
          "output_type": "stream",
          "text": [
            "Pick a number: 20\n",
            "Divide by: 5\n",
            "Divides evenly!\n"
          ],
          "name": "stdout"
        }
      ]
    },
    {
      "cell_type": "markdown",
      "metadata": {
        "id": "jYtMvOpP3OKf"
      },
      "source": [
        "#Rock Paper Scossors"
      ]
    },
    {
      "cell_type": "code",
      "metadata": {
        "colab": {
          "base_uri": "https://localhost:8080/"
        },
        "id": "zfYtGl2-3Qwc",
        "outputId": "342a1304-cdb3-4e68-883e-0242dec76074"
      },
      "source": [
        "#while player1 or player2 !='quit':\n",
        "active= True\n",
        "while active:\n",
        "  player1=input('Pick rock, paper or scissors!')\n",
        "  player2=input('Pick rock, paper or scissors!')\n",
        "  if player1=='rock' and player2==\"scissors\":\n",
        "    print('Player1 wins!')\n",
        "  elif player1==\"paper\" and player2==\"rock\":\n",
        "    print('player1 wins!')\n",
        "  elif player1==\"scissors\" and player2==\"paper\":\n",
        "    print('Player1 wins!')\n",
        "  else:\n",
        "    print('Player2 wins!!!')\n",
        "  if player1=='quit' and player2 =='quit':\n",
        "    active=False\n",
        "\n",
        "  "
      ],
      "execution_count": 49,
      "outputs": [
        {
          "output_type": "stream",
          "text": [
            "Pick rock, paper or scissors!paper\n",
            "Pick rock, paper or scissors!scissors\n",
            "Player2 wins!!!\n",
            "Pick rock, paper or scissors!quit\n",
            "Pick rock, paper or scissors!quit\n",
            "Player2 wins!!!\n"
          ],
          "name": "stdout"
        }
      ]
    },
    {
      "cell_type": "markdown",
      "metadata": {
        "id": "UUfCRVSKL7aB"
      },
      "source": [
        "\n",
        "#Dictionaries"
      ]
    },
    {
      "cell_type": "markdown",
      "metadata": {
        "id": "FIIs3vwFA5cP"
      },
      "source": [
        ""
      ]
    },
    {
      "cell_type": "code",
      "metadata": {
        "id": "DYMFbw525wpo",
        "colab": {
          "base_uri": "https://localhost:8080/"
        },
        "outputId": "eec5f68c-a273-4c18-a743-d73947932865"
      },
      "source": [
        "person={'first_name':'Milly',\n",
        "        'last_name':'May'}\n",
        "print(person)\n",
        "print(\"Hello \"+person['first_name']+' '+person['last_name'])"
      ],
      "execution_count": 20,
      "outputs": [
        {
          "output_type": "stream",
          "text": [
            "{'first_name': 'Milly', 'last_name': 'May'}\n",
            "Hello Milly May\n"
          ],
          "name": "stdout"
        }
      ]
    },
    {
      "cell_type": "code",
      "metadata": {
        "colab": {
          "base_uri": "https://localhost:8080/"
        },
        "id": "FwG8sF4cRtdk",
        "outputId": "472a05d8-b577-48f7-be62-ba0befef930e"
      },
      "source": [
        "person2={'first_name':'Bill',\n",
        "         'second_name':'Clinton'}\n",
        "for key,value in person2.items():\n",
        "  print(key)\n",
        "  print(value)"
      ],
      "execution_count": 25,
      "outputs": [
        {
          "output_type": "stream",
          "text": [
            "first_name\n",
            "Bill\n",
            "second_name\n",
            "Clinton\n"
          ],
          "name": "stdout"
        }
      ]
    },
    {
      "cell_type": "code",
      "metadata": {
        "colab": {
          "base_uri": "https://localhost:8080/"
        },
        "id": "lPd-i-k0S66f",
        "outputId": "c0751306-4311-4a09-c05a-da6fb1ab4602"
      },
      "source": [
        "travel_destinations={\n",
        "    'Beach':{'Caribbean':'Jamaica','USA':'Miami','Asia':'Bora Bora'},\n",
        "    'Mountain':{'USA':'Colorado','Europe':'Austria','South America':'Peru'},\n",
        "    'City':{'USA':'New York','Europe':'Paris','Asia':'Tokyo'}\n",
        "}\n",
        "for key,value in travel_destinations.items():\n",
        "  if key=='Beach':\n",
        "    print('If you want to go to a beach destination you should consider '+str(travel_destinations['Beach']))\n",
        "  elif key==\"Mountain\":\n",
        "    print('If you want to go to a mountain destination you should consider '+str(travel_destinations['Mountain']))\n",
        "  elif key=='City':\n",
        "    print('If you want to go to a beach destination you should consider '+str(travel_destinations['City']))\n",
        "  \n"
      ],
      "execution_count": 46,
      "outputs": [
        {
          "output_type": "stream",
          "text": [
            "If you want to go to a beach destination you should consider {'Caribbean': 'Jamaica', 'USA': 'Miami', 'Asia': 'Bora Bora'}\n",
            "If you want to go to a mountain destination you should consider {'USA': 'Colorado', 'Europe': 'Austria', 'South America': 'Peru'}\n",
            "If you want to go to a beach destination you should consider {'USA': 'New York', 'Europe': 'Paris', 'Asia': 'Tokyo'}\n"
          ],
          "name": "stdout"
        }
      ]
    },
    {
      "cell_type": "markdown",
      "metadata": {
        "id": "kigPbYa-t0eA"
      },
      "source": [
        "#Unit 3- Advanced Python"
      ]
    },
    {
      "cell_type": "code",
      "metadata": {
        "colab": {
          "base_uri": "https://localhost:8080/"
        },
        "id": "mJw35YzFA9q3",
        "outputId": "9464eed2-afd4-4a6d-e502-3d41966bc78d"
      },
      "source": [
        "import numpy as np\n",
        "#Dataset from summer Olympic London, year 2012\n",
        "np_olympic_country = np.array(['GBR','China','RUS','US','KOR','JPN','GER'])\n",
        "np_olympic_country_Gold = np.array([29,38,24,46,13,7,11])\n",
        "np_olympic_country_Silver = np.array([17,28,25,28,8,14,11])\n",
        "np_olympic_country_Bronze = np.array([19,22,32,29,7,17,14])\n",
        "highest = np.where(np_olympic_country_Gold== np.max(np_olympic_country_Gold))\n",
        "print('Max number of gold medals',np.max(np_olympic_country_Gold ))\n",
        "print('index number of maximum element (gold medals) :', highest[0])\n",
        "print('The country with Max number of gold medals is:',np_olympic_country[highest])\n",
        "more_than_20_medals=np_olympic_country_Gold >20\n",
        "print(more_than_20_medals)\n",
        "np_olympic_country_Gold[more_than_20_medals]\n",
        "x = np.where(np_olympic_country_Gold >20)\n",
        "\n",
        "print('the countrieas with more than 20 medals are:',np_olympic_country[x])\n",
        "#Find countrieas with more than 20 gold metals\n",
        "import numpy as np\n",
        "np_olympic_country_Gold = np.array([29,38,24,46,13,7,11])\n",
        "more_than_20_medals=np_olympic_country_Gold >20\n",
        "print(more_than_20_medals)\n",
        "np_olympic_country_Gold[more_than_20_medals]\n",
        "x = np.where(np_olympic_country_Gold >20)\n",
        "\n",
        "print(x)"
      ],
      "execution_count": 3,
      "outputs": [
        {
          "output_type": "stream",
          "text": [
            "Max number of gold medals 46\n",
            "index number of maximum element (gold medals) : [3]\n",
            "The country with Max number of gold medals is: ['US']\n",
            "[ True  True  True  True False False False]\n",
            "the countrieas with more than 20 medals are: ['GBR' 'China' 'RUS' 'US']\n",
            "[ True  True  True  True False False False]\n",
            "(array([0, 1, 2, 3]),)\n"
          ],
          "name": "stdout"
        }
      ]
    },
    {
      "cell_type": "markdown",
      "metadata": {
        "id": "1EMhUQTX8daw"
      },
      "source": [
        "#Assignment 1 : Python Data Analysis using salaries dataset"
      ]
    },
    {
      "cell_type": "code",
      "metadata": {
        "colab": {
          "base_uri": "https://localhost:8080/",
          "height": 221
        },
        "id": "glR5v9cW8goD",
        "outputId": "b1c1b55e-aea7-4d19-b243-bcc7484bb157"
      },
      "source": [
        "import pandas as pd \n",
        "import numpy as np\n",
        "import matplotlib.pyplot as plt\n",
        "%matplotlib inline\n",
        "import seaborn as sns\n",
        "df = pd.read_csv('https://raw.githubusercontent.com/CunyLaguardiaDataAnalytics/datasets/master/Salaries.csv')\n",
        "\n",
        "print('Rows and columns: ',df.shape)\n",
        "df.head()"
      ],
      "execution_count": 5,
      "outputs": [
        {
          "output_type": "stream",
          "text": [
            "Rows and columns:  (397, 7)\n"
          ],
          "name": "stdout"
        },
        {
          "output_type": "execute_result",
          "data": {
            "text/html": [
              "<div>\n",
              "<style scoped>\n",
              "    .dataframe tbody tr th:only-of-type {\n",
              "        vertical-align: middle;\n",
              "    }\n",
              "\n",
              "    .dataframe tbody tr th {\n",
              "        vertical-align: top;\n",
              "    }\n",
              "\n",
              "    .dataframe thead th {\n",
              "        text-align: right;\n",
              "    }\n",
              "</style>\n",
              "<table border=\"1\" class=\"dataframe\">\n",
              "  <thead>\n",
              "    <tr style=\"text-align: right;\">\n",
              "      <th></th>\n",
              "      <th>Unnamed: 0</th>\n",
              "      <th>rank</th>\n",
              "      <th>discipline</th>\n",
              "      <th>yrs.since.phd</th>\n",
              "      <th>yrs.service</th>\n",
              "      <th>sex</th>\n",
              "      <th>salary</th>\n",
              "    </tr>\n",
              "  </thead>\n",
              "  <tbody>\n",
              "    <tr>\n",
              "      <th>0</th>\n",
              "      <td>1</td>\n",
              "      <td>Prof</td>\n",
              "      <td>B</td>\n",
              "      <td>19</td>\n",
              "      <td>18</td>\n",
              "      <td>Male</td>\n",
              "      <td>139750</td>\n",
              "    </tr>\n",
              "    <tr>\n",
              "      <th>1</th>\n",
              "      <td>2</td>\n",
              "      <td>Prof</td>\n",
              "      <td>B</td>\n",
              "      <td>20</td>\n",
              "      <td>16</td>\n",
              "      <td>Male</td>\n",
              "      <td>173200</td>\n",
              "    </tr>\n",
              "    <tr>\n",
              "      <th>2</th>\n",
              "      <td>3</td>\n",
              "      <td>AsstProf</td>\n",
              "      <td>B</td>\n",
              "      <td>4</td>\n",
              "      <td>3</td>\n",
              "      <td>Male</td>\n",
              "      <td>79750</td>\n",
              "    </tr>\n",
              "    <tr>\n",
              "      <th>3</th>\n",
              "      <td>4</td>\n",
              "      <td>Prof</td>\n",
              "      <td>B</td>\n",
              "      <td>45</td>\n",
              "      <td>39</td>\n",
              "      <td>Male</td>\n",
              "      <td>115000</td>\n",
              "    </tr>\n",
              "    <tr>\n",
              "      <th>4</th>\n",
              "      <td>5</td>\n",
              "      <td>Prof</td>\n",
              "      <td>B</td>\n",
              "      <td>40</td>\n",
              "      <td>41</td>\n",
              "      <td>Male</td>\n",
              "      <td>141500</td>\n",
              "    </tr>\n",
              "  </tbody>\n",
              "</table>\n",
              "</div>"
            ],
            "text/plain": [
              "   Unnamed: 0      rank discipline  yrs.since.phd  yrs.service   sex  salary\n",
              "0           1      Prof          B             19           18  Male  139750\n",
              "1           2      Prof          B             20           16  Male  173200\n",
              "2           3  AsstProf          B              4            3  Male   79750\n",
              "3           4      Prof          B             45           39  Male  115000\n",
              "4           5      Prof          B             40           41  Male  141500"
            ]
          },
          "metadata": {
            "tags": []
          },
          "execution_count": 5
        }
      ]
    },
    {
      "cell_type": "code",
      "metadata": {
        "colab": {
          "base_uri": "https://localhost:8080/",
          "height": 204
        },
        "id": "KuC9Uinx87k9",
        "outputId": "72d04796-e4ae-42d5-c739-97a961fea199"
      },
      "source": [
        "df.tail()"
      ],
      "execution_count": 5,
      "outputs": [
        {
          "output_type": "execute_result",
          "data": {
            "text/html": [
              "<div>\n",
              "<style scoped>\n",
              "    .dataframe tbody tr th:only-of-type {\n",
              "        vertical-align: middle;\n",
              "    }\n",
              "\n",
              "    .dataframe tbody tr th {\n",
              "        vertical-align: top;\n",
              "    }\n",
              "\n",
              "    .dataframe thead th {\n",
              "        text-align: right;\n",
              "    }\n",
              "</style>\n",
              "<table border=\"1\" class=\"dataframe\">\n",
              "  <thead>\n",
              "    <tr style=\"text-align: right;\">\n",
              "      <th></th>\n",
              "      <th>Unnamed: 0</th>\n",
              "      <th>rank</th>\n",
              "      <th>discipline</th>\n",
              "      <th>yrs.since.phd</th>\n",
              "      <th>yrs.service</th>\n",
              "      <th>sex</th>\n",
              "      <th>salary</th>\n",
              "    </tr>\n",
              "  </thead>\n",
              "  <tbody>\n",
              "    <tr>\n",
              "      <th>392</th>\n",
              "      <td>393</td>\n",
              "      <td>Prof</td>\n",
              "      <td>A</td>\n",
              "      <td>33</td>\n",
              "      <td>30</td>\n",
              "      <td>Male</td>\n",
              "      <td>103106</td>\n",
              "    </tr>\n",
              "    <tr>\n",
              "      <th>393</th>\n",
              "      <td>394</td>\n",
              "      <td>Prof</td>\n",
              "      <td>A</td>\n",
              "      <td>31</td>\n",
              "      <td>19</td>\n",
              "      <td>Male</td>\n",
              "      <td>150564</td>\n",
              "    </tr>\n",
              "    <tr>\n",
              "      <th>394</th>\n",
              "      <td>395</td>\n",
              "      <td>Prof</td>\n",
              "      <td>A</td>\n",
              "      <td>42</td>\n",
              "      <td>25</td>\n",
              "      <td>Male</td>\n",
              "      <td>101738</td>\n",
              "    </tr>\n",
              "    <tr>\n",
              "      <th>395</th>\n",
              "      <td>396</td>\n",
              "      <td>Prof</td>\n",
              "      <td>A</td>\n",
              "      <td>25</td>\n",
              "      <td>15</td>\n",
              "      <td>Male</td>\n",
              "      <td>95329</td>\n",
              "    </tr>\n",
              "    <tr>\n",
              "      <th>396</th>\n",
              "      <td>397</td>\n",
              "      <td>AsstProf</td>\n",
              "      <td>A</td>\n",
              "      <td>8</td>\n",
              "      <td>4</td>\n",
              "      <td>Male</td>\n",
              "      <td>81035</td>\n",
              "    </tr>\n",
              "  </tbody>\n",
              "</table>\n",
              "</div>"
            ],
            "text/plain": [
              "     Unnamed: 0      rank discipline  yrs.since.phd  yrs.service   sex  salary\n",
              "392         393      Prof          A             33           30  Male  103106\n",
              "393         394      Prof          A             31           19  Male  150564\n",
              "394         395      Prof          A             42           25  Male  101738\n",
              "395         396      Prof          A             25           15  Male   95329\n",
              "396         397  AsstProf          A              8            4  Male   81035"
            ]
          },
          "metadata": {
            "tags": []
          },
          "execution_count": 5
        }
      ]
    },
    {
      "cell_type": "code",
      "metadata": {
        "colab": {
          "base_uri": "https://localhost:8080/",
          "height": 297
        },
        "id": "9wiiZ67K890k",
        "outputId": "d29fe3fb-5095-45f5-ab82-15e6fa4e8720"
      },
      "source": [
        "df.describe()"
      ],
      "execution_count": 6,
      "outputs": [
        {
          "output_type": "execute_result",
          "data": {
            "text/html": [
              "<div>\n",
              "<style scoped>\n",
              "    .dataframe tbody tr th:only-of-type {\n",
              "        vertical-align: middle;\n",
              "    }\n",
              "\n",
              "    .dataframe tbody tr th {\n",
              "        vertical-align: top;\n",
              "    }\n",
              "\n",
              "    .dataframe thead th {\n",
              "        text-align: right;\n",
              "    }\n",
              "</style>\n",
              "<table border=\"1\" class=\"dataframe\">\n",
              "  <thead>\n",
              "    <tr style=\"text-align: right;\">\n",
              "      <th></th>\n",
              "      <th>Unnamed: 0</th>\n",
              "      <th>yrs.since.phd</th>\n",
              "      <th>yrs.service</th>\n",
              "      <th>salary</th>\n",
              "    </tr>\n",
              "  </thead>\n",
              "  <tbody>\n",
              "    <tr>\n",
              "      <th>count</th>\n",
              "      <td>397.000000</td>\n",
              "      <td>397.000000</td>\n",
              "      <td>397.000000</td>\n",
              "      <td>397.000000</td>\n",
              "    </tr>\n",
              "    <tr>\n",
              "      <th>mean</th>\n",
              "      <td>199.000000</td>\n",
              "      <td>22.314861</td>\n",
              "      <td>17.614610</td>\n",
              "      <td>113706.458438</td>\n",
              "    </tr>\n",
              "    <tr>\n",
              "      <th>std</th>\n",
              "      <td>114.748275</td>\n",
              "      <td>12.887003</td>\n",
              "      <td>13.006024</td>\n",
              "      <td>30289.038695</td>\n",
              "    </tr>\n",
              "    <tr>\n",
              "      <th>min</th>\n",
              "      <td>1.000000</td>\n",
              "      <td>1.000000</td>\n",
              "      <td>0.000000</td>\n",
              "      <td>57800.000000</td>\n",
              "    </tr>\n",
              "    <tr>\n",
              "      <th>25%</th>\n",
              "      <td>100.000000</td>\n",
              "      <td>12.000000</td>\n",
              "      <td>7.000000</td>\n",
              "      <td>91000.000000</td>\n",
              "    </tr>\n",
              "    <tr>\n",
              "      <th>50%</th>\n",
              "      <td>199.000000</td>\n",
              "      <td>21.000000</td>\n",
              "      <td>16.000000</td>\n",
              "      <td>107300.000000</td>\n",
              "    </tr>\n",
              "    <tr>\n",
              "      <th>75%</th>\n",
              "      <td>298.000000</td>\n",
              "      <td>32.000000</td>\n",
              "      <td>27.000000</td>\n",
              "      <td>134185.000000</td>\n",
              "    </tr>\n",
              "    <tr>\n",
              "      <th>max</th>\n",
              "      <td>397.000000</td>\n",
              "      <td>56.000000</td>\n",
              "      <td>60.000000</td>\n",
              "      <td>231545.000000</td>\n",
              "    </tr>\n",
              "  </tbody>\n",
              "</table>\n",
              "</div>"
            ],
            "text/plain": [
              "       Unnamed: 0  yrs.since.phd  yrs.service         salary\n",
              "count  397.000000     397.000000   397.000000     397.000000\n",
              "mean   199.000000      22.314861    17.614610  113706.458438\n",
              "std    114.748275      12.887003    13.006024   30289.038695\n",
              "min      1.000000       1.000000     0.000000   57800.000000\n",
              "25%    100.000000      12.000000     7.000000   91000.000000\n",
              "50%    199.000000      21.000000    16.000000  107300.000000\n",
              "75%    298.000000      32.000000    27.000000  134185.000000\n",
              "max    397.000000      56.000000    60.000000  231545.000000"
            ]
          },
          "metadata": {
            "tags": []
          },
          "execution_count": 6
        }
      ]
    },
    {
      "cell_type": "code",
      "metadata": {
        "colab": {
          "base_uri": "https://localhost:8080/"
        },
        "id": "5EYusi6n9SGy",
        "outputId": "3a9b2498-67a4-4b12-fde8-aa2cff51e983"
      },
      "source": [
        "print('Average salary: ',df['salary'].mean())"
      ],
      "execution_count": 10,
      "outputs": [
        {
          "output_type": "stream",
          "text": [
            "Average salary: $ 113706.45843828715\n"
          ],
          "name": "stdout"
        }
      ]
    },
    {
      "cell_type": "code",
      "metadata": {
        "colab": {
          "base_uri": "https://localhost:8080/"
        },
        "id": "6yKJMC8x9Xuy",
        "outputId": "ca280b72-ff4c-4a5c-ddb9-e4ba40089822"
      },
      "source": [
        "print('Median salary: ',df['salary'].median())"
      ],
      "execution_count": 11,
      "outputs": [
        {
          "output_type": "stream",
          "text": [
            "Median salary:$ 107300.0\n"
          ],
          "name": "stdout"
        }
      ]
    },
    {
      "cell_type": "markdown",
      "metadata": {
        "id": "AJ84DpMH9zPx"
      },
      "source": [
        "###Making a new Data Frame that only has the columns 'sex' and 'salary'\n"
      ]
    },
    {
      "cell_type": "code",
      "metadata": {
        "colab": {
          "base_uri": "https://localhost:8080/"
        },
        "id": "PjBsA_iA92SM",
        "outputId": "a65139cc-d7d1-421a-ad3c-3d9bf1f9141e"
      },
      "source": [
        "new_df=df[['sex','salary']]\n",
        "print(new_df)"
      ],
      "execution_count": 12,
      "outputs": [
        {
          "output_type": "stream",
          "text": [
            "      sex  salary\n",
            "0    Male  139750\n",
            "1    Male  173200\n",
            "2    Male   79750\n",
            "3    Male  115000\n",
            "4    Male  141500\n",
            "..    ...     ...\n",
            "392  Male  103106\n",
            "393  Male  150564\n",
            "394  Male  101738\n",
            "395  Male   95329\n",
            "396  Male   81035\n",
            "\n",
            "[397 rows x 2 columns]\n"
          ],
          "name": "stdout"
        }
      ]
    },
    {
      "cell_type": "markdown",
      "metadata": {
        "id": "8qkzdrPL-S5A"
      },
      "source": [
        "###Finding the Median salary for all males\n"
      ]
    },
    {
      "cell_type": "code",
      "metadata": {
        "colab": {
          "base_uri": "https://localhost:8080/"
        },
        "id": "ptcRXg26-VXC",
        "outputId": "8f5596fd-c3f8-4068-f080-33867ec3acea"
      },
      "source": [
        "df_male=df[df['sex']=='Male']\n",
        "print(df_male)\n",
        "mean_male_salary=df_male['salary'].mean()\n",
        "print('Avg male salary: ',round(mean_male_salary, 2))\n",
        "print('Median male salary is: ',round(df_male['salary'].median(),2))\n"
      ],
      "execution_count": 18,
      "outputs": [
        {
          "output_type": "stream",
          "text": [
            "     Unnamed: 0      rank discipline  yrs.since.phd  yrs.service   sex  salary\n",
            "0             1      Prof          B             19           18  Male  139750\n",
            "1             2      Prof          B             20           16  Male  173200\n",
            "2             3  AsstProf          B              4            3  Male   79750\n",
            "3             4      Prof          B             45           39  Male  115000\n",
            "4             5      Prof          B             40           41  Male  141500\n",
            "..          ...       ...        ...            ...          ...   ...     ...\n",
            "392         393      Prof          A             33           30  Male  103106\n",
            "393         394      Prof          A             31           19  Male  150564\n",
            "394         395      Prof          A             42           25  Male  101738\n",
            "395         396      Prof          A             25           15  Male   95329\n",
            "396         397  AsstProf          A              8            4  Male   81035\n",
            "\n",
            "[358 rows x 7 columns]\n",
            "Avg male salary:  115090.42\n",
            "Median male salary is:  108043.0\n"
          ],
          "name": "stdout"
        }
      ]
    },
    {
      "cell_type": "markdown",
      "metadata": {
        "id": "rVGPue7uArro"
      },
      "source": [
        "###Finding the Median salary for all females"
      ]
    },
    {
      "cell_type": "code",
      "metadata": {
        "colab": {
          "base_uri": "https://localhost:8080/"
        },
        "id": "QY1sUyDJAtLD",
        "outputId": "54d3576a-1b37-4d40-c688-59f1d68a242a"
      },
      "source": [
        "df_female=df[df['sex']=='Female']\n",
        "print(df_female)\n",
        "mean_female_salary=df_female['salary'].mean()\n",
        "print('Avg female salary: ',round(mean_female_salary,2))\n",
        "print('Median female salary is: ',df_female['salary'].median())"
      ],
      "execution_count": 20,
      "outputs": [
        {
          "output_type": "stream",
          "text": [
            "     Unnamed: 0       rank discipline  ...  yrs.service     sex  salary\n",
            "9            10       Prof          B  ...           18  Female  129000\n",
            "19           20       Prof          A  ...           36  Female  137000\n",
            "24           25  AssocProf          A  ...            8  Female   74830\n",
            "34           35   AsstProf          B  ...            2  Female   80225\n",
            "35           36   AsstProf          B  ...            0  Female   77000\n",
            "47           48       Prof          B  ...           19  Female  151768\n",
            "48           49       Prof          B  ...           25  Female  140096\n",
            "52           53   AsstProf          B  ...            3  Female   74692\n",
            "63           64  AssocProf          B  ...           11  Female  103613\n",
            "68           69       Prof          B  ...           17  Female  111512\n",
            "84           85       Prof          B  ...           18  Female  122960\n",
            "90           91   AsstProf          B  ...            5  Female   97032\n",
            "103         104       Prof          B  ...           14  Female  127512\n",
            "114         115       Prof          A  ...            0  Female  105000\n",
            "119         120   AsstProf          A  ...            3  Female   73500\n",
            "123         124  AssocProf          A  ...           22  Female   62884\n",
            "127         128   AsstProf          A  ...            0  Female   72500\n",
            "132         133  AssocProf          A  ...            8  Female   77500\n",
            "133         134   AsstProf          A  ...            1  Female   72500\n",
            "148         149       Prof          B  ...           26  Female  144651\n",
            "153         154  AssocProf          B  ...           10  Female  103994\n",
            "179         180   AsstProf          B  ...            3  Female   92000\n",
            "186         187  AssocProf          B  ...           10  Female  103750\n",
            "218         219  AssocProf          B  ...            7  Female  109650\n",
            "230         231       Prof          A  ...           27  Female   91000\n",
            "231         232  AssocProf          A  ...           24  Female   73300\n",
            "233         234       Prof          A  ...           19  Female  117555\n",
            "237         238   AsstProf          A  ...            6  Female   63100\n",
            "245         246       Prof          A  ...           11  Female   90450\n",
            "253         254   AsstProf          A  ...            2  Female   77500\n",
            "254         255       Prof          A  ...            7  Female  116450\n",
            "274         275   AsstProf          A  ...            3  Female   78500\n",
            "316         317  AssocProf          B  ...            9  Female   71065\n",
            "323         324       Prof          B  ...           15  Female  161101\n",
            "332         333       Prof          B  ...           10  Female  105450\n",
            "334         335  AssocProf          B  ...            6  Female  104542\n",
            "341         342       Prof          B  ...           17  Female  124312\n",
            "358         359       Prof          A  ...           14  Female  109954\n",
            "361         362       Prof          A  ...           15  Female  109646\n",
            "\n",
            "[39 rows x 7 columns]\n",
            "Avg female salary:  101002.41\n",
            "Median female salary is:  103750.0\n"
          ],
          "name": "stdout"
        }
      ]
    },
    {
      "cell_type": "markdown",
      "metadata": {
        "id": "bz44GTj1BKdS"
      },
      "source": [
        "##Comparing the Mean salary of Males and Females\n",
        "### The difference between mean salaries of male and female"
      ]
    },
    {
      "cell_type": "code",
      "metadata": {
        "colab": {
          "base_uri": "https://localhost:8080/"
        },
        "id": "bYI_OISqBPyf",
        "outputId": "9aaeb871-9a2c-45ff-ecc7-1a9fa436d8b0"
      },
      "source": [
        "dif_mean_salaries=mean_male_salary-mean_female_salary\n",
        "print('The dif between avg male and female salary is: ',dif_mean_salaries)"
      ],
      "execution_count": 25,
      "outputs": [
        {
          "output_type": "stream",
          "text": [
            "The dif between avg male and female salary is:  14088.008738003162\n"
          ],
          "name": "stdout"
        }
      ]
    },
    {
      "cell_type": "markdown",
      "metadata": {
        "id": "7gE4Tr0BB-cD"
      },
      "source": [
        "##Comparing the salaries of people who have 20+ years of experience vs less than 20 years of experience"
      ]
    },
    {
      "cell_type": "code",
      "metadata": {
        "colab": {
          "base_uri": "https://localhost:8080/"
        },
        "id": "YCEoQGXXB_gz",
        "outputId": "8c7d9be4-453e-46a0-e85b-db737464ad3f"
      },
      "source": [
        "df_20_yrs_exp=df[df[\"yrs.service\"]>=20]\n",
        "print(df_20_yrs_exp)\n",
        "mean_over20_salary=df_20_yrs_exp['salary'].mean()\n",
        "print('Avg salary for ppl with over 20 yrs experience is: ',mean_over20_salary)"
      ],
      "execution_count": 14,
      "outputs": [
        {
          "output_type": "stream",
          "text": [
            "     Unnamed: 0  rank discipline  yrs.since.phd  yrs.service   sex  salary\n",
            "3             4  Prof          B             45           39  Male  115000\n",
            "4             5  Prof          B             40           41  Male  141500\n",
            "6             7  Prof          B             30           23  Male  175000\n",
            "7             8  Prof          B             45           45  Male  147765\n",
            "8             9  Prof          B             21           20  Male  119250\n",
            "..          ...   ...        ...            ...          ...   ...     ...\n",
            "384         385  Prof          A             27           21  Male  125192\n",
            "386         387  Prof          A             29           27  Male  139219\n",
            "388         389  Prof          A             38           36  Male  119450\n",
            "392         393  Prof          A             33           30  Male  103106\n",
            "394         395  Prof          A             42           25  Male  101738\n",
            "\n",
            "[157 rows x 7 columns]\n",
            "Avg salary for ppl with over 20 yrs experience is:  122520.65605095541\n"
          ],
          "name": "stdout"
        }
      ]
    },
    {
      "cell_type": "code",
      "metadata": {
        "colab": {
          "base_uri": "https://localhost:8080/"
        },
        "id": "41poz7JjC5R0",
        "outputId": "808a9d81-9f31-4f8e-bbb0-b88dc0e4c0d0"
      },
      "source": [
        "df_less20_yrs_exp=df[df[\"yrs.service\"]<20]\n",
        "print(df_less20_yrs_exp)\n",
        "mean_under20_salary=df_less20_yrs_exp['salary'].mean()\n",
        "print('Avg salary for ppl with under 20 yrs experience is: ',round(mean_under20_salary,2))"
      ],
      "execution_count": 21,
      "outputs": [
        {
          "output_type": "stream",
          "text": [
            "     Unnamed: 0       rank discipline  ...  yrs.service     sex  salary\n",
            "0             1       Prof          B  ...           18    Male  139750\n",
            "1             2       Prof          B  ...           16    Male  173200\n",
            "2             3   AsstProf          B  ...            3    Male   79750\n",
            "5             6  AssocProf          B  ...            6    Male   97000\n",
            "9            10       Prof          B  ...           18  Female  129000\n",
            "..          ...        ...        ...  ...          ...     ...     ...\n",
            "390         391       Prof          A  ...           19    Male  166605\n",
            "391         392       Prof          A  ...           19    Male  151292\n",
            "393         394       Prof          A  ...           19    Male  150564\n",
            "395         396       Prof          A  ...           15    Male   95329\n",
            "396         397   AsstProf          A  ...            4    Male   81035\n",
            "\n",
            "[240 rows x 7 columns]\n",
            "Avg salary for ppl with under 20 yrs experience is:  107940.5\n"
          ],
          "name": "stdout"
        }
      ]
    },
    {
      "cell_type": "markdown",
      "metadata": {
        "id": "i8stfGeAD-d0"
      },
      "source": [
        "##People who have salary of greater than or equal to 200,000"
      ]
    },
    {
      "cell_type": "code",
      "metadata": {
        "colab": {
          "base_uri": "https://localhost:8080/"
        },
        "id": "YSXZ5rpYD_ml",
        "outputId": "18b0e519-e8a8-4d0b-8395-dd00d521dd8f"
      },
      "source": [
        "df_over_200000_salary=df[df['salary']>200000].count()\n",
        "print(df_over_200000_salary.to_string())"
      ],
      "execution_count": 22,
      "outputs": [
        {
          "output_type": "stream",
          "text": [
            "Unnamed: 0       3\n",
            "rank             3\n",
            "discipline       3\n",
            "yrs.since.phd    3\n",
            "yrs.service      3\n",
            "sex              3\n",
            "salary           3\n"
          ],
          "name": "stdout"
        }
      ]
    },
    {
      "cell_type": "markdown",
      "metadata": {
        "id": "nI9iI9i_GvLk"
      },
      "source": [
        "#Rename values, subset columns, etc"
      ]
    },
    {
      "cell_type": "code",
      "metadata": {
        "id": "AKiPeShXiNaH"
      },
      "source": [
        ""
      ],
      "execution_count": null,
      "outputs": []
    },
    {
      "cell_type": "code",
      "metadata": {
        "colab": {
          "base_uri": "https://localhost:8080/"
        },
        "id": "WH9_5Xh5GwOA",
        "outputId": "87298625-5425-4a63-fb19-0f2a6d2f4f54"
      },
      "source": [
        "print(df.head())\n",
        "df.rename(columns={'rank':'Rank',\n",
        "                   'discipline':'Discipline',\n",
        "                   'sex':'Gender'},inplace=True)\n"
      ],
      "execution_count": 61,
      "outputs": [
        {
          "output_type": "stream",
          "text": [
            "   Unnamed: 0      Rank Discipline  yrs.since.phd  yrs.service Gender  salary\n",
            "0           1      Prof          B             19           18   Male  139750\n",
            "1           2      Prof          B             20           16   Male  173200\n",
            "2           3  AsstProf          B              4            3   Male   79750\n",
            "3           4      Prof          B             45           39   Male  115000\n",
            "4           5      Prof          B             40           41   Male  141500\n"
          ],
          "name": "stdout"
        }
      ]
    },
    {
      "cell_type": "markdown",
      "metadata": {
        "id": "RdFOzfIlKQSI"
      },
      "source": [
        "##Create some simple visualizations showing some simple statistics"
      ]
    },
    {
      "cell_type": "code",
      "metadata": {
        "colab": {
          "base_uri": "https://localhost:8080/",
          "height": 296
        },
        "id": "pYm5vvRpKS4j",
        "outputId": "7440df45-65c6-4c7f-bf0c-0e41f68b63a5"
      },
      "source": [
        "df.plot(x='Rank',y='salary',kind='scatter')\n"
      ],
      "execution_count": 69,
      "outputs": [
        {
          "output_type": "execute_result",
          "data": {
            "text/plain": [
              "<matplotlib.axes._subplots.AxesSubplot at 0x7fa6621a9610>"
            ]
          },
          "metadata": {
            "tags": []
          },
          "execution_count": 69
        },
        {
          "output_type": "display_data",
          "data": {
            "image/png": "[encoded data removed]",
            "text/plain": [
              "<Figure size 432x288 with 1 Axes>"
            ]
          },
          "metadata": {
            "tags": [],
            "needs_background": "light"
          }
        }
      ]
    },
    {
      "cell_type": "code",
      "metadata": {
        "colab": {
          "base_uri": "https://localhost:8080/",
          "height": 386
        },
        "id": "Z4ocpNKFiPze",
        "outputId": "456123e9-a63e-4b81-dc7a-e97837fd93cd"
      },
      "source": [
        "#sns.jointplot(x='sex',y='salary',bins=50)\n",
        "sns.displot(df,x='sex',binwidth=3)\n"
      ],
      "execution_count": 10,
      "outputs": [
        {
          "output_type": "execute_result",
          "data": {
            "text/plain": [
              "<seaborn.axisgrid.FacetGrid at 0x7fc6c0de2850>"
            ]
          },
          "metadata": {
            "tags": []
          },
          "execution_count": 10
        },
        {
          "output_type": "display_data",
          "data": {
            "image/png": "[encoded data removed]",
            "text/plain": [
              "<Figure size 360x360 with 1 Axes>"
            ]
          },
          "metadata": {
            "tags": [],
            "needs_background": "light"
          }
        }
      ]
    },
    {
      "cell_type": "code",
      "metadata": {
        "colab": {
          "base_uri": "https://localhost:8080/",
          "height": 366
        },
        "id": "RA1-KuAOnao9",
        "outputId": "d0dc0d4d-e21a-4092-e15d-a47dd23cba53"
      },
      "source": [
        "sns.displot(df,x='rank',binwidth=3)\n",
        "# Majority r professors"
      ],
      "execution_count": 32,
      "outputs": [
        {
          "output_type": "execute_result",
          "data": {
            "text/plain": [
              "<seaborn.axisgrid.FacetGrid at 0x7fc6b3fa5150>"
            ]
          },
          "metadata": {
            "tags": []
          },
          "execution_count": 32
        },
        {
          "output_type": "display_data",
          "data": {
            "image/png": "[encoded data removed]",
            "text/plain": [
              "<Figure size 360x360 with 1 Axes>"
            ]
          },
          "metadata": {
            "tags": []
          }
        }
      ]
    },
    {
      "cell_type": "code",
      "metadata": {
        "colab": {
          "base_uri": "https://localhost:8080/",
          "height": 315
        },
        "id": "ZoDh8IuwmU0V",
        "outputId": "c96fc04d-8a81-4626-ab93-75909511610a"
      },
      "source": [
        "sns.countplot(x='sex',data=df)#hue color saturation palette dodge\n",
        "# There r about 350 men to 40 women"
      ],
      "execution_count": 29,
      "outputs": [
        {
          "output_type": "execute_result",
          "data": {
            "text/plain": [
              "<matplotlib.axes._subplots.AxesSubplot at 0x7fc6b40eabd0>"
            ]
          },
          "metadata": {
            "tags": []
          },
          "execution_count": 29
        },
        {
          "output_type": "display_data",
          "data": {
            "image/png": "[encoded data removed]",
            "text/plain": [
              "<Figure size 432x288 with 1 Axes>"
            ]
          },
          "metadata": {
            "tags": []
          }
        }
      ]
    },
    {
      "cell_type": "code",
      "metadata": {
        "colab": {
          "base_uri": "https://localhost:8080/",
          "height": 315
        },
        "id": "axVVB8hcp5ue",
        "outputId": "0b2a9851-1863-472c-8479-039776ae3757"
      },
      "source": [
        "sns.boxplot(x='rank',y='salary', data=df, hue='sex')\n",
        "#plt.legend(loc=0)\n",
        "#Male prof r in the pay range of 110k-145k with two outliers\n",
        "#Female prof r in the pay range of 115-135k\n",
        "#Male assistant prof r in the range of 75-90k and female ast prof 75-80k with 3 outliers\n",
        "#Male AssocProf lower pay starts at 80k as for their female counterpart it is at 70k and the top range is the same "
      ],
      "execution_count": 38,
      "outputs": [
        {
          "output_type": "execute_result",
          "data": {
            "text/plain": [
              "<matplotlib.axes._subplots.AxesSubplot at 0x7fc68be01610>"
            ]
          },
          "metadata": {
            "tags": []
          },
          "execution_count": 38
        },
        {
          "output_type": "display_data",
          "data": {
            "image/png": "[encoded data removed]",
            "text/plain": [
              "<Figure size 432x288 with 1 Axes>"
            ]
          },
          "metadata": {
            "tags": []
          }
        }
      ]
    },
    {
      "cell_type": "code",
      "metadata": {
        "colab": {
          "base_uri": "https://localhost:8080/",
          "height": 366
        },
        "id": "gPL_IhyQjOr3",
        "outputId": "8239533e-bd4d-4d44-d30c-344cd7bd6088"
      },
      "source": [
        "sns.displot(df,x='sex',y='salary')\n",
        "##The majority of the Women r paid between 70-80k, the majority of the men r paid 80-110k"
      ],
      "execution_count": 31,
      "outputs": [
        {
          "output_type": "execute_result",
          "data": {
            "text/plain": [
              "<seaborn.axisgrid.FacetGrid at 0x7fc6b40bb2d0>"
            ]
          },
          "metadata": {
            "tags": []
          },
          "execution_count": 31
        },
        {
          "output_type": "display_data",
          "data": {
            "image/png": "[encoded data removed]",
            "text/plain": [
              "<Figure size 360x360 with 1 Axes>"
            ]
          },
          "metadata": {
            "tags": []
          }
        }
      ]
    },
    {
      "cell_type": "code",
      "metadata": {
        "colab": {
          "base_uri": "https://localhost:8080/",
          "height": 455
        },
        "id": "Db2jQnVTkbra",
        "outputId": "915d3e9e-a767-4f87-d767-3ec078e2efb8"
      },
      "source": [
        "sns.set_style('darkgrid')#whitegrid, dark, ticks\n",
        "plt.figure(figsize=(2,4))\n",
        "sns.set_context('paper', font_scale=2)#talk,poster\n",
        "sns.jointplot(x='yrs.service',y='salary',data=df,kind='reg')\n",
        "# the salaries r concentrated in the range of 75-110k with a few outliers yr and salarywise "
      ],
      "execution_count": 24,
      "outputs": [
        {
          "output_type": "execute_result",
          "data": {
            "text/plain": [
              "<seaborn.axisgrid.JointGrid at 0x7fc6b4328490>"
            ]
          },
          "metadata": {
            "tags": []
          },
          "execution_count": 24
        },
        {
          "output_type": "display_data",
          "data": {
            "text/plain": [
              "<Figure size 144x288 with 0 Axes>"
            ]
          },
          "metadata": {
            "tags": []
          }
        },
        {
          "output_type": "display_data",
          "data": {
            "image/png": "[encoded data removed]",
            "text/plain": [
              "<Figure size 432x432 with 3 Axes>"
            ]
          },
          "metadata": {
            "tags": []
          }
        }
      ]
    },
    {
      "cell_type": "code",
      "metadata": {
        "colab": {
          "base_uri": "https://localhost:8080/",
          "height": 315
        },
        "id": "B9N5ZEAbltwk",
        "outputId": "6c6707b8-bdc1-4aaf-fa9d-a3c166c7293e"
      },
      "source": [
        "sns.barplot(x='sex',y='salary',data=df, estimator=np.mean)\n",
        "# females r slightly underpaid in comparison with males"
      ],
      "execution_count": 26,
      "outputs": [
        {
          "output_type": "execute_result",
          "data": {
            "text/plain": [
              "<matplotlib.axes._subplots.AxesSubplot at 0x7fc6b41ba750>"
            ]
          },
          "metadata": {
            "tags": []
          },
          "execution_count": 26
        },
        {
          "output_type": "display_data",
          "data": {
            "image/png": "[encoded data removed]",
            "text/plain": [
              "<Figure size 432x288 with 1 Axes>"
            ]
          },
          "metadata": {
            "tags": []
          }
        }
      ]
    },
    {
      "cell_type": "code",
      "metadata": {
        "colab": {
          "base_uri": "https://localhost:8080/",
          "height": 315
        },
        "id": "nR6DjEshrzju",
        "outputId": "59a605cf-2f44-448c-eeb2-323d41900ac5"
      },
      "source": [
        "sns.violinplot(x='discipline',y='yrs.service',data=df,hue='sex',split=True)\n",
        "#females in dicipline A have the highest yrs of service around 8 and males 12"
      ],
      "execution_count": 40,
      "outputs": [
        {
          "output_type": "execute_result",
          "data": {
            "text/plain": [
              "<matplotlib.axes._subplots.AxesSubplot at 0x7fc6866a9150>"
            ]
          },
          "metadata": {
            "tags": []
          },
          "execution_count": 40
        },
        {
          "output_type": "display_data",
          "data": {
            "image/png": "[encoded data removed]",
            "text/plain": [
              "<Figure size 432x288 with 1 Axes>"
            ]
          },
          "metadata": {
            "tags": []
          }
        }
      ]
    },
    {
      "cell_type": "code",
      "metadata": {
        "colab": {
          "base_uri": "https://localhost:8080/",
          "height": 315
        },
        "id": "ZOyjqWPcslqE",
        "outputId": "1a835127-11bf-4f76-e9e6-bc080edcdd46"
      },
      "source": [
        "sns.stripplot(x='rank',y='salary',data=df,hue='sex',palette='gist_rainbow')"
      ],
      "execution_count": 41,
      "outputs": [
        {
          "output_type": "execute_result",
          "data": {
            "text/plain": [
              "<matplotlib.axes._subplots.AxesSubplot at 0x7fc68665f950>"
            ]
          },
          "metadata": {
            "tags": []
          },
          "execution_count": 41
        },
        {
          "output_type": "display_data",
          "data": {
            "image/png": "[encoded data removed]",
            "text/plain": [
              "<Figure size 432x288 with 1 Axes>"
            ]
          },
          "metadata": {
            "tags": []
          }
        }
      ]
    }
  ]
}